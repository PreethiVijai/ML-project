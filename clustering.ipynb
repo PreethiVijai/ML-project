{
 "nbformat": 4,
 "nbformat_minor": 2,
 "metadata": {
  "language_info": {
   "name": "python",
   "codemirror_mode": {
    "name": "ipython",
    "version": 3
   },
   "version": "3.7.4-final"
  },
  "orig_nbformat": 2,
  "file_extension": ".py",
  "mimetype": "text/x-python",
  "name": "python",
  "npconvert_exporter": "python",
  "pygments_lexer": "ipython3",
  "version": 3,
  "kernelspec": {
   "name": "python37464bitbasecondabeb2e11ebe3a43d2984ddfc0b70c7575",
   "display_name": "Python 3.7.4 64-bit ('base': conda)"
  }
 },
 "cells": [
  {
   "cell_type": "code",
   "execution_count": 2,
   "metadata": {},
   "outputs": [],
   "source": [
    "import numpy as np\n",
    "import pandas as pd\n",
    "\n",
    "import data"
   ]
  },
  {
   "cell_type": "code",
   "execution_count": 34,
   "metadata": {},
   "outputs": [],
   "source": [
    "race_variables = [\n",
    "    # Population, low access to store (%), 2015\n",
    "    # \"PCT_LACCESS_POP15\",\n",
    "    # White, low access to store (%), 2015\n",
    "    \"PCT_LACCESS_WHITE15\",\n",
    "    # Black, low access to store (%), 2015\n",
    "    \"PCT_LACCESS_BLACK15\",\n",
    "    # Hispanic ethnicity, low access to store (%), 2015\n",
    "    \"PCT_LACCESS_HISP15\",\n",
    "    # Asian, low access to store (%), 2015\n",
    "    \"PCT_LACCESS_NHASIAN15\",\n",
    "    # American Indian or Alaska Native, low access to store (%), 2015\n",
    "    \"PCT_LACCESS_NHNA15\",\n",
    "    # Hawaiian or Pacific Islander, low access to store (%), 2015\n",
    "    \"PCT_LACCESS_NHPI15\",\n",
    "]\n",
    "\n",
    "# dropna only drops 45 counties.\n",
    "race_X = data.all_food[race_variables].dropna()"
   ]
  },
  {
   "cell_type": "code",
   "execution_count": 37,
   "metadata": {},
   "outputs": [
    {
     "output_type": "execute_result",
     "data": {
      "text/plain": "KMeans(algorithm='auto', copy_x=True, init='k-means++', max_iter=300,\n       n_clusters=5, n_init=10, n_jobs=None, precompute_distances='auto',\n       random_state=None, tol=0.0001, verbose=0)"
     },
     "metadata": {},
     "execution_count": 37
    }
   ],
   "source": [
    "from sklearn.cluster import KMeans\n",
    "\n",
    "k = KMeans(n_clusters=5)\n",
    "\n",
    "k.fit(race_X)"
   ]
  },
  {
   "cell_type": "code",
   "execution_count": 39,
   "metadata": {},
   "outputs": [
    {
     "output_type": "execute_result",
     "data": {
      "text/plain": "   PCT_LACCESS_WHITE15  PCT_LACCESS_BLACK15  PCT_LACCESS_HISP15  \\\n0            18.990060             2.085719            1.935947   \n1            20.095880             0.159474            1.830855   \n2            87.440793             0.715465           10.156440   \n3             6.858587             2.054519            0.601575   \n4            35.013573             1.237262            4.123128   \n\n   PCT_LACCESS_NHASIAN15  PCT_LACCESS_NHNA15  PCT_LACCESS_NHPI15  \n0               0.333209            0.400448            0.020509  \n1               0.376881           45.672242            0.120239  \n2               0.297187            0.976706            0.038269  \n3               0.136517            0.190865            0.012455  \n4               0.322296            0.835722            0.024226  ",
      "text/html": "<div>\n<style scoped>\n    .dataframe tbody tr th:only-of-type {\n        vertical-align: middle;\n    }\n\n    .dataframe tbody tr th {\n        vertical-align: top;\n    }\n\n    .dataframe thead th {\n        text-align: right;\n    }\n</style>\n<table border=\"1\" class=\"dataframe\">\n  <thead>\n    <tr style=\"text-align: right;\">\n      <th></th>\n      <th>PCT_LACCESS_WHITE15</th>\n      <th>PCT_LACCESS_BLACK15</th>\n      <th>PCT_LACCESS_HISP15</th>\n      <th>PCT_LACCESS_NHASIAN15</th>\n      <th>PCT_LACCESS_NHNA15</th>\n      <th>PCT_LACCESS_NHPI15</th>\n    </tr>\n  </thead>\n  <tbody>\n    <tr>\n      <td>0</td>\n      <td>18.990060</td>\n      <td>2.085719</td>\n      <td>1.935947</td>\n      <td>0.333209</td>\n      <td>0.400448</td>\n      <td>0.020509</td>\n    </tr>\n    <tr>\n      <td>1</td>\n      <td>20.095880</td>\n      <td>0.159474</td>\n      <td>1.830855</td>\n      <td>0.376881</td>\n      <td>45.672242</td>\n      <td>0.120239</td>\n    </tr>\n    <tr>\n      <td>2</td>\n      <td>87.440793</td>\n      <td>0.715465</td>\n      <td>10.156440</td>\n      <td>0.297187</td>\n      <td>0.976706</td>\n      <td>0.038269</td>\n    </tr>\n    <tr>\n      <td>3</td>\n      <td>6.858587</td>\n      <td>2.054519</td>\n      <td>0.601575</td>\n      <td>0.136517</td>\n      <td>0.190865</td>\n      <td>0.012455</td>\n    </tr>\n    <tr>\n      <td>4</td>\n      <td>35.013573</td>\n      <td>1.237262</td>\n      <td>4.123128</td>\n      <td>0.322296</td>\n      <td>0.835722</td>\n      <td>0.024226</td>\n    </tr>\n  </tbody>\n</table>\n</div>"
     },
     "metadata": {},
     "execution_count": 39
    }
   ],
   "source": [
    "pd.DataFrame(k.cluster_centers_, columns=race_variables)"
   ]
  },
  {
   "cell_type": "code",
   "execution_count": 40,
   "metadata": {},
   "outputs": [
    {
     "output_type": "execute_result",
     "data": {
      "text/plain": "3    1290\n0    1233\n4     451\n2     122\n1      25\ndtype: int64"
     },
     "metadata": {},
     "execution_count": 40
    }
   ],
   "source": [
    "pd.Series(k.labels_).value_counts()"
   ]
  },
  {
   "cell_type": "code",
   "execution_count": 45,
   "metadata": {},
   "outputs": [],
   "source": [
    "choice_variables = [\n",
    "    # Grocery stores/1,000 pop, 2014\n",
    "    \"GROCPTH14\",\n",
    "    # Supercenters & club stores/1,000 pop, 2014\n",
    "    \"SUPERCPTH14\",\n",
    "    # Convenience stores/1,000 pop, 2014\n",
    "    \"CONVSPTH14\",\n",
    "    # Specialized food stores/1,000 pop, 2014\n",
    "    \"SPECSPTH14\",\n",
    "    # # SNAP-authorized stores/1,000 pop, 2016\n",
    "    # \"SNAPSPTH16\",\n",
    "    # # WIC-authorized stores/1,000 pop, 2012\n",
    "    # \"WICSPTH12\",\n",
    "    # Fast-food restaurants/1,000 pop, 2014\n",
    "    \"FFRPTH14\",\n",
    "    # Full-service restaurants/1,000 pop, 2014\n",
    "    \"FSRPTH14\",\n",
    "    # Farmers' markets/1,000 pop, 2016\n",
    "    \"FMRKTPTH16\",\n",
    "]\n",
    "\n",
    "# There actually aren't any missing variables\n",
    "choice_X = data.all_food[choice_variables]"
   ]
  },
  {
   "cell_type": "code",
   "execution_count": 50,
   "metadata": {},
   "outputs": [
    {
     "output_type": "execute_result",
     "data": {
      "text/plain": "   Grocery stores/1,000 pop, 2014  Supercenters & club stores/1,000 pop, 2014  \\\n0                        0.231492                                    0.014168   \n1                        0.508885                                    0.016404   \n2                        0.444211                                    0.011711   \n3                        0.192814                                    0.023321   \n4                        1.341521                                    0.000000   \n\n   Convenience stores/1,000 pop, 2014  \\\n0                            0.656007   \n1                            0.887236   \n2                            0.773544   \n3                            0.480661   \n4                            2.295223   \n\n   Specialized food stores/1,000 pop, 2014  \\\n0                                 0.029819   \n1                                 0.158566   \n2                                 0.067862   \n3                                 0.057046   \n4                                 0.000000   \n\n   Fast-food restaurants/1,000 pop, 2014  \\\n0                               0.396017   \n1                               1.074713   \n2                               0.532028   \n3                               0.690495   \n4                               1.747055   \n\n   Full-service restaurants/1,000 pop, 2014  Farmers' markets/1,000 pop, 2016  \n0                                  0.424836                          0.050124  \n1                                  2.864643                          0.146636  \n2                                  1.350442                          0.109127  \n3                                  0.740503                          0.044029  \n4                                  8.836267                          0.341530  ",
      "text/html": "<div>\n<style scoped>\n    .dataframe tbody tr th:only-of-type {\n        vertical-align: middle;\n    }\n\n    .dataframe tbody tr th {\n        vertical-align: top;\n    }\n\n    .dataframe thead th {\n        text-align: right;\n    }\n</style>\n<table border=\"1\" class=\"dataframe\">\n  <thead>\n    <tr style=\"text-align: right;\">\n      <th></th>\n      <th>Grocery stores/1,000 pop, 2014</th>\n      <th>Supercenters &amp; club stores/1,000 pop, 2014</th>\n      <th>Convenience stores/1,000 pop, 2014</th>\n      <th>Specialized food stores/1,000 pop, 2014</th>\n      <th>Fast-food restaurants/1,000 pop, 2014</th>\n      <th>Full-service restaurants/1,000 pop, 2014</th>\n      <th>Farmers' markets/1,000 pop, 2016</th>\n    </tr>\n  </thead>\n  <tbody>\n    <tr>\n      <td>0</td>\n      <td>0.231492</td>\n      <td>0.014168</td>\n      <td>0.656007</td>\n      <td>0.029819</td>\n      <td>0.396017</td>\n      <td>0.424836</td>\n      <td>0.050124</td>\n    </tr>\n    <tr>\n      <td>1</td>\n      <td>0.508885</td>\n      <td>0.016404</td>\n      <td>0.887236</td>\n      <td>0.158566</td>\n      <td>1.074713</td>\n      <td>2.864643</td>\n      <td>0.146636</td>\n    </tr>\n    <tr>\n      <td>2</td>\n      <td>0.444211</td>\n      <td>0.011711</td>\n      <td>0.773544</td>\n      <td>0.067862</td>\n      <td>0.532028</td>\n      <td>1.350442</td>\n      <td>0.109127</td>\n    </tr>\n    <tr>\n      <td>3</td>\n      <td>0.192814</td>\n      <td>0.023321</td>\n      <td>0.480661</td>\n      <td>0.057046</td>\n      <td>0.690495</td>\n      <td>0.740503</td>\n      <td>0.044029</td>\n    </tr>\n    <tr>\n      <td>4</td>\n      <td>1.341521</td>\n      <td>0.000000</td>\n      <td>2.295223</td>\n      <td>0.000000</td>\n      <td>1.747055</td>\n      <td>8.836267</td>\n      <td>0.341530</td>\n    </tr>\n  </tbody>\n</table>\n</div>"
     },
     "metadata": {},
     "execution_count": 50
    }
   ],
   "source": [
    "from sklearn.cluster import KMeans\n",
    "\n",
    "k_choice = KMeans(n_clusters=5)\n",
    "\n",
    "k_choice.fit(choice_X)\n",
    "\n",
    "pd.DataFrame(k_choice.cluster_centers_, columns=[\n",
    "    \"Grocery stores/1,000 pop, 2014\",\n",
    "    \"Supercenters & club stores/1,000 pop, 2014\",\n",
    "    \"Convenience stores/1,000 pop, 2014\",\n",
    "    \"Specialized food stores/1,000 pop, 2014\",\n",
    "    \"Fast-food restaurants/1,000 pop, 2014\",\n",
    "    \"Full-service restaurants/1,000 pop, 2014\",\n",
    "    \"Farmers' markets/1,000 pop, 2016\",\n",
    "])"
   ]
  },
  {
   "cell_type": "code",
   "execution_count": 51,
   "metadata": {},
   "outputs": [
    {
     "output_type": "execute_result",
     "data": {
      "text/plain": "3    1521\n0    1087\n2     451\n1      77\n4       4\ndtype: int64"
     },
     "metadata": {},
     "execution_count": 51
    }
   ],
   "source": [
    "pd.Series(k_choice.labels_).value_counts()"
   ]
  },
  {
   "cell_type": "code",
   "execution_count": null,
   "metadata": {},
   "outputs": [],
   "source": []
  }
 ]
}